{
 "cells": [
  {
   "cell_type": "code",
   "execution_count": 1,
   "id": "e1db9d0f",
   "metadata": {},
   "outputs": [
    {
     "name": "stderr",
     "output_type": "stream",
     "text": [
      "Some weights of the model checkpoint at DeepPavlov/rubert-base-cased were not used when initializing BertModel: ['cls.predictions.bias', 'cls.predictions.decoder.weight', 'cls.seq_relationship.weight', 'cls.seq_relationship.bias', 'cls.predictions.transform.dense.bias', 'cls.predictions.decoder.bias', 'cls.predictions.transform.LayerNorm.weight', 'cls.predictions.transform.LayerNorm.bias', 'cls.predictions.transform.dense.weight']\n",
      "- This IS expected if you are initializing BertModel from the checkpoint of a model trained on another task or with another architecture (e.g. initializing a BertForSequenceClassification model from a BertForPreTraining model).\n",
      "- This IS NOT expected if you are initializing BertModel from the checkpoint of a model that you expect to be exactly identical (initializing a BertForSequenceClassification model from a BertForSequenceClassification model).\n"
     ]
    }
   ],
   "source": [
    "# Import generic wrappers\n",
    "from transformers import AutoModel, AutoTokenizer \n",
    "\n",
    "\n",
    "# Define the model repo\n",
    "model_name = \"DeepPavlov/rubert-base-cased\" \n",
    "\n",
    "\n",
    "# Download pytorch model\n",
    "model = AutoModel.from_pretrained(model_name)\n",
    "tokenizer = AutoTokenizer.from_pretrained(model_name)"
   ]
  },
  {
   "cell_type": "code",
   "execution_count": 2,
   "id": "9b42a35e",
   "metadata": {},
   "outputs": [],
   "source": [
    "from nltk.util import ngrams\n",
    "from nltk.tokenize import word_tokenize\n",
    "import numpy as np\n",
    "import pymorphy2\n",
    "import nltk\n",
    "import joblib\n",
    "\n",
    "stop_words=joblib.load(open(\"stop_words.joblib\",\"rb\"))\n",
    "punctuation=joblib.load(open(\"punctuation.joblib\",\"rb\"))"
   ]
  },
  {
   "cell_type": "code",
   "execution_count": 3,
   "id": "b7be626c",
   "metadata": {},
   "outputs": [],
   "source": [
    "#nltk.download()\n",
    "#nltk.download('punkt')\n",
    "#nltk.download('stopwords')\n",
    "# from nltk.corpus import stopwords\n",
    "# import nltk.data\n",
    "# punctuation=[i.replace(\" \",\"\") for i in nltk.data.load(\"Punctuation.txt\",format=\"text\")]\n",
    "# #stop_words=[i.replace(\" \",\"\") for i in nltk.data.load(\"..//..//nltk_data/corpora/stopwords/russian\",format=\"text\").split(\"\\n\")]\n",
    "# ru_stop_words=stopwords.words('russian')\n",
    "# en_stop_words=stopwords.words('english')\n",
    "# stop_words=ru_stop_words+en_stop_words\n",
    "# print(len(stop_words))\n",
    "# import joblib\n",
    "# joblib.dump(stop_words,open(\"stop_words.joblib\",\"wb\"))\n",
    "# joblib.dump(\"\".join(punctuation),open(\"punctuation.joblib\",\"wb\"))"
   ]
  },
  {
   "cell_type": "code",
   "execution_count": 4,
   "id": "d10e4825",
   "metadata": {},
   "outputs": [],
   "source": [
    "def text_prepare(text):\n",
    "    global stop_words\n",
    "    text=text.lower()\n",
    "    tokenized_str = word_tokenize(text)\n",
    "    morph = pymorphy2.MorphAnalyzer()\n",
    "    parsed_tokens = [morph.parse(word) for word in tokenized_str if word not in punctuation]\n",
    "    normal_forms = [parsed_token[0].normal_form for parsed_token in parsed_tokens]\n",
    "    tokens = np.array([i for i in normal_forms if i not in stop_words])\n",
    "    return \" \".join(tokens)\n",
    "\n",
    "def get_text_vector(text):\n",
    "    global tokenizer\n",
    "    global model\n",
    "    # Transform input tokens \n",
    "    inputs = tokenizer(text, return_tensors=\"pt\")\n",
    "    # Model apply\n",
    "    outputs = model(**inputs)\n",
    "    return outputs.pooler_output.detach().numpy()\n",
    "\n",
    "def get_n_grams(raw_text: str,ngram_count: int):\n",
    "    global punctuation\n",
    "    text=text_prepare(raw_text)\n",
    "    tokenized_str = word_tokenize(text)\n",
    "    tokens = np.array([i for i in tokenized_str])    \n",
    "    return np.array([\" \".join(list(i)) for i in ngrams(tokens,ngram_count)])"
   ]
  },
  {
   "cell_type": "code",
   "execution_count": 5,
   "id": "a554234f",
   "metadata": {},
   "outputs": [],
   "source": [
    "text=\"\"\"Жила девочка Женя. Однажды послала её мама в магазин за баранками. Купила Женя семь баранок: две баранки с тмином для папы, две баранки с маком для мамы, две баранки с сахаром для себя и одну маленькую розовую баранку для братика Павлика.\n",
    "\n",
    "Взяла Женя связку баранок и отправилась домой. Идет, по сторонам зевает, вывески читает, ворон считает. А сзади тем временем сзади пристала незнакомая собака, да все баранки одну за другой и съела. Сначала съела папины с тмином, потом мамины с маком, потом Женины с сахаром. Почувствовала Женя, что баранки стали что-то чересчур легкие. Обернулась, да уж поздно. Мочалка болтается пустая, а собака последнюю, розовую Павликову бараночку доедает, и счастливо облизывается.\n",
    "\n",
    "- Ах, вредная собака! - закричала Женя и бросилась ее догонять.\n",
    "\n",
    "Бежала, бежала, собаку не догнала, только сама заблудилась. Видит – место совсем незнакомое, больших домов нет, а стоят маленькие домики. Испугалась Женя и заплакала.\"\"\""
   ]
  },
  {
   "cell_type": "code",
   "execution_count": 6,
   "id": "9cc000bc",
   "metadata": {},
   "outputs": [],
   "source": [
    "from sklearn.metrics.pairwise import cosine_similarity,cosine_distances\n",
    "\n",
    "def get_key_words(text,count_output_words=5,max_n_grams=3):\n",
    "    text=text_prepare(text)\n",
    "    all_text_vector=get_text_vector(text)\n",
    "    # preparation of vectorizable n-grams\n",
    "    grams=np.array([])\n",
    "    for i in range(1,max_n_grams+1):\n",
    "        grams=np.concatenate((grams,np.unique(get_n_grams(text,i))))\n",
    "    # their vectorization\n",
    "    vectors=np.array(list(map(get_text_vector,grams)))\n",
    "    vectors=vectors.reshape(vectors.shape[0],vectors.shape[-1])\n",
    "    # calculating the cosine distance\n",
    "    cos_dist=np.array(list(map(lambda x: cosine_distances(x.reshape(1,-1),all_text_vector.reshape(1,-1)),vectors)))\n",
    "    cos_dist=cos_dist.reshape(-1,)\n",
    "    # dictionary formation with cosine distances\n",
    "    dist2gram={cos_dist[i]:grams[i] for i in range(len(cos_dist))}\n",
    "    mins_dist=np.sort(cos_dist)[:count_output_words]\n",
    "    return np.array(list(map(lambda x: {dist2gram[x]:x},mins_dist)))"
   ]
  },
  {
   "cell_type": "code",
   "execution_count": 7,
   "id": "d36acde9",
   "metadata": {},
   "outputs": [
    {
     "data": {
      "text/plain": [
       "array([{'жить': 0.061053634}, {'дом стоять': 0.06236291},\n",
       "       {'папин тмин': 0.06507236}, {'папа': 0.06588364},\n",
       "       {'домик': 0.0678969}, {'папин': 0.07127875},\n",
       "       {'мамин мак': 0.071457386}, {'мак мама': 0.07146311},\n",
       "       {'сахар': 0.07181221}, {'дом': 0.07377851}], dtype=object)"
      ]
     },
     "execution_count": 7,
     "metadata": {},
     "output_type": "execute_result"
    }
   ],
   "source": [
    "get_key_words(text,10,2)"
   ]
  }
 ],
 "metadata": {
  "kernelspec": {
   "display_name": "Python 3 (ipykernel)",
   "language": "python",
   "name": "python3"
  },
  "language_info": {
   "codemirror_mode": {
    "name": "ipython",
    "version": 3
   },
   "file_extension": ".py",
   "mimetype": "text/x-python",
   "name": "python",
   "nbconvert_exporter": "python",
   "pygments_lexer": "ipython3",
   "version": "3.9.12"
  }
 },
 "nbformat": 4,
 "nbformat_minor": 5
}
