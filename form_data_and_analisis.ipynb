{
 "cells": [
  {
   "cell_type": "markdown",
   "id": "716b17ab",
   "metadata": {},
   "source": [
    "# This notebook is the first of a series on solving the described problem. It presents the processes of data analysis and processing."
   ]
  },
  {
   "cell_type": "code",
   "execution_count": 1,
   "id": "5afb8837",
   "metadata": {
    "scrolled": true
   },
   "outputs": [],
   "source": [
    "import os\n",
    "import pandas as pd\n",
    "from transformers import AutoModel, AutoTokenizer \n",
    "import matplotlib.pyplot as plt\n",
    "from sklearn.metrics.pairwise import cosine_similarity,cosine_distances\n",
    "from nltk.util import ngrams\n",
    "from nltk.tokenize import word_tokenize\n",
    "import numpy as np\n",
    "import pymorphy2\n",
    "import nltk\n",
    "import joblib\n",
    "import re "
   ]
  },
  {
   "cell_type": "markdown",
   "id": "f5563680",
   "metadata": {},
   "source": [
    "## Data preparation\n",
    "### Extracting data from files and forming a DataFrame"
   ]
  },
  {
   "cell_type": "code",
   "execution_count": 2,
   "id": "b0dc06b8",
   "metadata": {},
   "outputs": [],
   "source": [
    "class_0=[]\n",
    "class_1=[]\n",
    "for r, d, f in os.walk('data_for_nirs/0/'):\n",
    "    for i in f:\n",
    "        class_0.append((r+i).replace('/','\\\\'))\n",
    "        \n",
    "for r, d, f in os.walk('data_for_nirs/1/'):\n",
    "    for i in f:\n",
    "        class_1.append((r+i).replace('/','\\\\'))"
   ]
  },
  {
   "cell_type": "code",
   "execution_count": 3,
   "id": "d399a30b",
   "metadata": {},
   "outputs": [],
   "source": [
    "for i in range(len(class_0)):\n",
    "    with open(class_0[i],encoding=\"utf-8\") as f:\n",
    "        class_0[i]=f.read()\n",
    "\n",
    "for i in range(len(class_1)):\n",
    "    with open(class_1[i],encoding=\"utf-8\") as f:\n",
    "        class_1[i]=f.read()    \n",
    "        \n",
    "print(len(class_0),len(class_1))"
   ]
  },
  {
   "cell_type": "code",
   "execution_count": 4,
   "id": "2eedb33b",
   "metadata": {},
   "outputs": [],
   "source": [
    "all_texts=np.array(class_0+class_1)\n",
    "labels=np.array([0]*len(class_0)+[1]*len(class_1))\n",
    "df=pd.DataFrame({\"text\":all_texts,\"label\":labels})\n",
    "df.head()"
   ]
  },
  {
   "cell_type": "code",
   "execution_count": 5,
   "id": "a14153a0",
   "metadata": {},
   "outputs": [],
   "source": [
    "df.to_excel('df.xls',encoding=\"utf-8\")\n",
    "joblib.dump(df,open('df.joblib',\"wb\"))"
   ]
  },
  {
   "cell_type": "markdown",
   "id": "20a20c48",
   "metadata": {},
   "source": [
    "### In this section, data was compiled into a single Data Frame file"
   ]
  },
  {
   "cell_type": "markdown",
   "id": "2b8249d2",
   "metadata": {},
   "source": [
    "## Analysis"
   ]
  },
  {
   "cell_type": "code",
   "execution_count": 2,
   "id": "de27bdbf",
   "metadata": {},
   "outputs": [
    {
     "data": {
      "text/html": [
       "<div>\n",
       "<style scoped>\n",
       "    .dataframe tbody tr th:only-of-type {\n",
       "        vertical-align: middle;\n",
       "    }\n",
       "\n",
       "    .dataframe tbody tr th {\n",
       "        vertical-align: top;\n",
       "    }\n",
       "\n",
       "    .dataframe thead th {\n",
       "        text-align: right;\n",
       "    }\n",
       "</style>\n",
       "<table border=\"1\" class=\"dataframe\">\n",
       "  <thead>\n",
       "    <tr style=\"text-align: right;\">\n",
       "      <th></th>\n",
       "      <th>text</th>\n",
       "      <th>label</th>\n",
       "    </tr>\n",
       "  </thead>\n",
       "  <tbody>\n",
       "    <tr>\n",
       "      <th>0</th>\n",
       "      <td>Я – Андрей Торопин – (криптовалютный инвестор,...</td>\n",
       "      <td>0</td>\n",
       "    </tr>\n",
       "    <tr>\n",
       "      <th>1</th>\n",
       "      <td>🚀 Дорогие партнеры! \\n\\nОтличная новость. \\n\\n...</td>\n",
       "      <td>0</td>\n",
       "    </tr>\n",
       "  </tbody>\n",
       "</table>\n",
       "</div>"
      ],
      "text/plain": [
       "                                                text  label\n",
       "0  Я – Андрей Торопин – (криптовалютный инвестор,...      0\n",
       "1  🚀 Дорогие партнеры! \\n\\nОтличная новость. \\n\\n...      0"
      ]
     },
     "execution_count": 2,
     "metadata": {},
     "output_type": "execute_result"
    }
   ],
   "source": [
    "df=joblib.load(open('df.joblib',\"rb\"))\n",
    "df.head(2)"
   ]
  },
  {
   "cell_type": "code",
   "execution_count": 3,
   "id": "736bf400",
   "metadata": {},
   "outputs": [
    {
     "data": {
      "text/html": [
       "<style type=\"text/css\">\n",
       "#T_45216_row0_col0, #T_45216_row1_col0 {\n",
       "  background-color: #3b4cc0;\n",
       "  color: #f1f1f1;\n",
       "}\n",
       "</style>\n",
       "<table id=\"T_45216\">\n",
       "  <thead>\n",
       "    <tr>\n",
       "      <th class=\"blank level0\" >&nbsp;</th>\n",
       "      <th id=\"T_45216_level0_col0\" class=\"col_heading level0 col0\" >Data Null (%)</th>\n",
       "    </tr>\n",
       "  </thead>\n",
       "  <tbody>\n",
       "    <tr>\n",
       "      <th id=\"T_45216_level0_row0\" class=\"row_heading level0 row0\" >text</th>\n",
       "      <td id=\"T_45216_row0_col0\" class=\"data row0 col0\" >0.000000</td>\n",
       "    </tr>\n",
       "    <tr>\n",
       "      <th id=\"T_45216_level0_row1\" class=\"row_heading level0 row1\" >label</th>\n",
       "      <td id=\"T_45216_row1_col0\" class=\"data row1 col0\" >0.000000</td>\n",
       "    </tr>\n",
       "  </tbody>\n",
       "</table>\n"
      ],
      "text/plain": [
       "<pandas.io.formats.style.Styler at 0x24f4e8984f0>"
      ]
     },
     "execution_count": 3,
     "metadata": {},
     "output_type": "execute_result"
    }
   ],
   "source": [
    "pd.DataFrame(data = [df.isna().sum()/df.shape[0]*100],\n",
    "             index=[\"Data Null (%)\"]\n",
    "            ).T.style.background_gradient(cmap='coolwarm')"
   ]
  },
  {
   "cell_type": "code",
   "execution_count": 4,
   "id": "93d3506c",
   "metadata": {
    "scrolled": true
   },
   "outputs": [
    {
     "name": "stdout",
     "output_type": "stream",
     "text": [
      "<class 'pandas.core.frame.DataFrame'>\n",
      "RangeIndex: 102 entries, 0 to 101\n",
      "Data columns (total 2 columns):\n",
      " #   Column  Non-Null Count  Dtype \n",
      "---  ------  --------------  ----- \n",
      " 0   text    102 non-null    object\n",
      " 1   label   102 non-null    int32 \n",
      "dtypes: int32(1), object(1)\n",
      "memory usage: 1.3+ KB\n"
     ]
    }
   ],
   "source": [
    "df.info()"
   ]
  },
  {
   "cell_type": "code",
   "execution_count": 5,
   "id": "8a02f488",
   "metadata": {
    "scrolled": true
   },
   "outputs": [
    {
     "data": {
      "text/html": [
       "<div>\n",
       "<style scoped>\n",
       "    .dataframe tbody tr th:only-of-type {\n",
       "        vertical-align: middle;\n",
       "    }\n",
       "\n",
       "    .dataframe tbody tr th {\n",
       "        vertical-align: top;\n",
       "    }\n",
       "\n",
       "    .dataframe thead th {\n",
       "        text-align: right;\n",
       "    }\n",
       "</style>\n",
       "<table border=\"1\" class=\"dataframe\">\n",
       "  <thead>\n",
       "    <tr style=\"text-align: right;\">\n",
       "      <th></th>\n",
       "      <th>label</th>\n",
       "    </tr>\n",
       "  </thead>\n",
       "  <tbody>\n",
       "    <tr>\n",
       "      <th>count</th>\n",
       "      <td>102.000000</td>\n",
       "    </tr>\n",
       "    <tr>\n",
       "      <th>mean</th>\n",
       "      <td>0.490196</td>\n",
       "    </tr>\n",
       "    <tr>\n",
       "      <th>std</th>\n",
       "      <td>0.502373</td>\n",
       "    </tr>\n",
       "    <tr>\n",
       "      <th>min</th>\n",
       "      <td>0.000000</td>\n",
       "    </tr>\n",
       "    <tr>\n",
       "      <th>25%</th>\n",
       "      <td>0.000000</td>\n",
       "    </tr>\n",
       "    <tr>\n",
       "      <th>50%</th>\n",
       "      <td>0.000000</td>\n",
       "    </tr>\n",
       "    <tr>\n",
       "      <th>75%</th>\n",
       "      <td>1.000000</td>\n",
       "    </tr>\n",
       "    <tr>\n",
       "      <th>max</th>\n",
       "      <td>1.000000</td>\n",
       "    </tr>\n",
       "  </tbody>\n",
       "</table>\n",
       "</div>"
      ],
      "text/plain": [
       "            label\n",
       "count  102.000000\n",
       "mean     0.490196\n",
       "std      0.502373\n",
       "min      0.000000\n",
       "25%      0.000000\n",
       "50%      0.000000\n",
       "75%      1.000000\n",
       "max      1.000000"
      ]
     },
     "execution_count": 5,
     "metadata": {},
     "output_type": "execute_result"
    }
   ],
   "source": [
    "df.describe()"
   ]
  },
  {
   "cell_type": "code",
   "execution_count": 6,
   "id": "3380c477",
   "metadata": {},
   "outputs": [
    {
     "data": {
      "text/plain": [
       "<AxesSubplot:>"
      ]
     },
     "execution_count": 6,
     "metadata": {},
     "output_type": "execute_result"
    },
    {
     "data": {
      "image/png": "[encoded data removed]",
      "text/plain": [
       "<Figure size 432x288 with 1 Axes>"
      ]
     },
     "metadata": {
      "needs_background": "light"
     },
     "output_type": "display_data"
    }
   ],
   "source": [
    "df.text.apply (lambda x: len(x)).plot()"
   ]
  },
  {
   "cell_type": "markdown",
   "id": "4e373887",
   "metadata": {},
   "source": [
    "### Input data has been analyzed, there is no class imbalance, it is necessary to combat emissions."
   ]
  },
  {
   "cell_type": "markdown",
   "id": "bfb8195c",
   "metadata": {},
   "source": [
    "## Text preprocessing\n",
    "* explicitly remove all links\n",
    "* only allowed characters remain in the text: \"ёйцукенгшщзхъфывапролджэячсмитьбюqwertyuiopasdfghjklzxcvbnm \""
   ]
  },
  {
   "cell_type": "code",
   "execution_count": 7,
   "id": "f21bdded",
   "metadata": {},
   "outputs": [],
   "source": [
    "stop_words=joblib.load(open(\"stop_words.joblib\",\"rb\"))\n",
    "punctuation=joblib.load(open(\"punctuation.joblib\",\"rb\"))\n",
    "allow_chars=joblib.load(open(\"allow_chars.joblib\",\"rb\"))"
   ]
  },
  {
   "cell_type": "code",
   "execution_count": 8,
   "id": "ec54c633",
   "metadata": {},
   "outputs": [],
   "source": [
    "def clear_patterns(text):\n",
    "    patterns = [r\"http[/?\\S]*\",\n",
    "                r\"(?<!\\d)(?:0?[1-9]|[12][0-9]|3[01])[.-](?:0?[1-9]|1[0-2])[.-](?:19[0-9][0-9]|20[01][0-9])(?!\\d)\",\n",
    "                r\"\\b\\+?[7,8](\\s*\\d{3}\\s*\\d{3}\\s*\\d{2}\\s*\\d{2})\\b\",\n",
    "                r\"\\s+\",               \n",
    "                r\"\\d+\"]\n",
    "    for i in patterns:\n",
    "        text = re.sub(i, \" \", text)\n",
    "    return text"
   ]
  },
  {
   "cell_type": "code",
   "execution_count": 9,
   "id": "e946e2ca",
   "metadata": {},
   "outputs": [],
   "source": [
    "def text_prepare(text):\n",
    "    global punctuation\n",
    "    global stop_words\n",
    "    text=text.lower()\n",
    "    text=clear_patterns(text)\n",
    "    # We leave only the allowed characters\n",
    "    # TODO refactor via re\n",
    "    text=list(text)\n",
    "    size=len(text)\n",
    "    i=0\n",
    "    while i<size:\n",
    "        if text[i] not in allow_chars: \n",
    "            del text[i]\n",
    "            size-=1\n",
    "        else:\n",
    "            i+=1\n",
    "            \n",
    "    text=\"\".join(text)\n",
    "    # Tokenization\n",
    "    tokenized_str = word_tokenize(text)\n",
    "    # Lemmatization\n",
    "    morph = pymorphy2.MorphAnalyzer()\n",
    "    parsed_tokens = [morph.parse(word) for word in tokenized_str if word not in punctuation]\n",
    "    normal_forms = [parsed_token[0].normal_form for parsed_token in parsed_tokens]\n",
    "    # Filtering stop words\n",
    "    tokens = np.array([i for i in normal_forms if i not in stop_words and i!=\"\" ])\n",
    "    return tokens"
   ]
  },
  {
   "cell_type": "code",
   "execution_count": 10,
   "id": "8bc9fbda",
   "metadata": {},
   "outputs": [
    {
     "data": {
      "text/plain": [
       "'🚀 Дорогие партнеры! \\n\\nОтличная новость. \\n\\n🔥🔥🔥Уже сегодня  6 - июля закрытое обучение, только для партнеров компании Union Time.\\n\\nСпикеры: \\nРоман Погодаев\\nЕлена Ватлашова\\n\\nРазберем темы:\\n\\n1. Беседа о продаже ⚡️\\n\\n2. Мотивация клиента 💰 \\n\\n\\n🕐 Время мероприятия:\\n19:00-21:00\\n🗺 Адрес: Галактионовская, 118а Центр - «Точка Кипения»\\n\\n‼️ Приходить за 10 минут до начала\\n\\nВажно быть самому и взять с собой свою команду! \\n\\nСсылка на трансляцию, для других регионов: \\n\\nhttps://us06web.zoom.us/j/88009324556?pwd=cld3RThPNFNadmNFN2t6UXJMYVpiUT09\\n\\nИдентификатор конференции: 880 0932 4556\\nКод доступа: 378673\\n\\n➕ Прочитал информацию и будешь ставь плюс! +++'"
      ]
     },
     "execution_count": 10,
     "metadata": {},
     "output_type": "execute_result"
    }
   ],
   "source": [
    "# before\n",
    "df.text.values[1]"
   ]
  },
  {
   "cell_type": "code",
   "execution_count": 11,
   "id": "9631b17b",
   "metadata": {},
   "outputs": [
    {
     "data": {
      "text/plain": [
       "array(['дорогой', 'партнёр', 'отличный', 'новость', 'сегодня', 'июль',\n",
       "       'закрытый', 'обучение', 'партнёр', 'компания', 'спикер', 'роман',\n",
       "       'погодаев', 'елена', 'ватлашов', 'разобрать', 'тема', 'беседа',\n",
       "       'продажа', 'мотивация', 'клиент', 'время', 'мероприятие', 'адрес',\n",
       "       'галактионовский', 'центр', 'точка', 'кипение', 'приходить',\n",
       "       'минута', 'начало', 'важно', 'взять', 'свой', 'команда', 'ссылка',\n",
       "       'трансляция', 'регион', 'идентификатор', 'конференция', 'код',\n",
       "       'доступ', 'прочитать', 'информация', 'ставить', 'плюс'],\n",
       "      dtype='<U15')"
      ]
     },
     "execution_count": 11,
     "metadata": {},
     "output_type": "execute_result"
    }
   ],
   "source": [
    "# after\n",
    "text_prepare(df.text.values[1])"
   ]
  },
  {
   "cell_type": "code",
   "execution_count": 13,
   "id": "f7197835",
   "metadata": {},
   "outputs": [
    {
     "data": {
      "text/html": [
       "<div>\n",
       "<style scoped>\n",
       "    .dataframe tbody tr th:only-of-type {\n",
       "        vertical-align: middle;\n",
       "    }\n",
       "\n",
       "    .dataframe tbody tr th {\n",
       "        vertical-align: top;\n",
       "    }\n",
       "\n",
       "    .dataframe thead th {\n",
       "        text-align: right;\n",
       "    }\n",
       "</style>\n",
       "<table border=\"1\" class=\"dataframe\">\n",
       "  <thead>\n",
       "    <tr style=\"text-align: right;\">\n",
       "      <th></th>\n",
       "      <th>text</th>\n",
       "      <th>label</th>\n",
       "      <th>split_text</th>\n",
       "    </tr>\n",
       "  </thead>\n",
       "  <tbody>\n",
       "    <tr>\n",
       "      <th>0</th>\n",
       "      <td>Я – Андрей Торопин – (криптовалютный инвестор,...</td>\n",
       "      <td>0</td>\n",
       "      <td>[андрей, торопин, криптовалютный, инвестор, со...</td>\n",
       "    </tr>\n",
       "    <tr>\n",
       "      <th>1</th>\n",
       "      <td>🚀 Дорогие партнеры! \\n\\nОтличная новость. \\n\\n...</td>\n",
       "      <td>0</td>\n",
       "      <td>[дорогой, партнёр, отличный, новость, сегодня,...</td>\n",
       "    </tr>\n",
       "  </tbody>\n",
       "</table>\n",
       "</div>"
      ],
      "text/plain": [
       "                                                text  label  \\\n",
       "0  Я – Андрей Торопин – (криптовалютный инвестор,...      0   \n",
       "1  🚀 Дорогие партнеры! \\n\\nОтличная новость. \\n\\n...      0   \n",
       "\n",
       "                                          split_text  \n",
       "0  [андрей, торопин, криптовалютный, инвестор, со...  \n",
       "1  [дорогой, партнёр, отличный, новость, сегодня,...  "
      ]
     },
     "execution_count": 13,
     "metadata": {},
     "output_type": "execute_result"
    }
   ],
   "source": [
    "# df[\"split_text\"]=df.text.apply(text_prepare)\n",
    "# joblib.dump(df,open('df_lem.joblib',\"wb\"))\n",
    "df=joblib.load(open('df_lem.joblib',\"rb\"))\n",
    "df.head(2)"
   ]
  },
  {
   "cell_type": "markdown",
   "id": "47789796",
   "metadata": {},
   "source": [
    "## Features engineering"
   ]
  },
  {
   "cell_type": "code",
   "execution_count": 14,
   "id": "c71a7087",
   "metadata": {},
   "outputs": [
    {
     "data": {
      "text/plain": [
       "<AxesSubplot:>"
      ]
     },
     "execution_count": 14,
     "metadata": {},
     "output_type": "execute_result"
    },
    {
     "data": {
      "image/png": "[encoded data removed]",
      "text/plain": [
       "<Figure size 432x288 with 1 Axes>"
      ]
     },
     "metadata": {
      "needs_background": "light"
     },
     "output_type": "display_data"
    }
   ],
   "source": [
    "df[\"word_count\"]=df.text.apply (lambda x: len(x.split()))\n",
    "df[\"word_count\"].plot()"
   ]
  },
  {
   "cell_type": "code",
   "execution_count": 15,
   "id": "b0c6d2f9",
   "metadata": {},
   "outputs": [
    {
     "data": {
      "text/plain": [
       "count     102.000000\n",
       "mean      330.990196\n",
       "std       543.798039\n",
       "min        26.000000\n",
       "25%        82.750000\n",
       "50%       132.000000\n",
       "75%       293.750000\n",
       "max      3386.000000\n",
       "Name: word_count, dtype: float64"
      ]
     },
     "execution_count": 15,
     "metadata": {},
     "output_type": "execute_result"
    }
   ],
   "source": [
    "df[\"word_count\"].describe()"
   ]
  },
  {
   "cell_type": "code",
   "execution_count": 16,
   "id": "d1416911",
   "metadata": {},
   "outputs": [
    {
     "data": {
      "text/html": [
       "<div>\n",
       "<style scoped>\n",
       "    .dataframe tbody tr th:only-of-type {\n",
       "        vertical-align: middle;\n",
       "    }\n",
       "\n",
       "    .dataframe tbody tr th {\n",
       "        vertical-align: top;\n",
       "    }\n",
       "\n",
       "    .dataframe thead th {\n",
       "        text-align: right;\n",
       "    }\n",
       "</style>\n",
       "<table border=\"1\" class=\"dataframe\">\n",
       "  <thead>\n",
       "    <tr style=\"text-align: right;\">\n",
       "      <th></th>\n",
       "      <th>text</th>\n",
       "      <th>label</th>\n",
       "      <th>split_text</th>\n",
       "      <th>word_count</th>\n",
       "    </tr>\n",
       "  </thead>\n",
       "  <tbody>\n",
       "    <tr>\n",
       "      <th>0</th>\n",
       "      <td>Я – Андрей Торопин – (криптовалютный инвестор,...</td>\n",
       "      <td>0</td>\n",
       "      <td>[андрей, торопин, криптовалютный, инвестор, со...</td>\n",
       "      <td>199</td>\n",
       "    </tr>\n",
       "    <tr>\n",
       "      <th>1</th>\n",
       "      <td>🚀 Дорогие партнеры! \\n\\nОтличная новость. \\n\\n...</td>\n",
       "      <td>0</td>\n",
       "      <td>[дорогой, партнёр, отличный, новость, сегодня,...</td>\n",
       "      <td>85</td>\n",
       "    </tr>\n",
       "  </tbody>\n",
       "</table>\n",
       "</div>"
      ],
      "text/plain": [
       "                                                text  label  \\\n",
       "0  Я – Андрей Торопин – (криптовалютный инвестор,...      0   \n",
       "1  🚀 Дорогие партнеры! \\n\\nОтличная новость. \\n\\n...      0   \n",
       "\n",
       "                                          split_text  word_count  \n",
       "0  [андрей, торопин, криптовалютный, инвестор, со...         199  \n",
       "1  [дорогой, партнёр, отличный, новость, сегодня,...          85  "
      ]
     },
     "execution_count": 16,
     "metadata": {},
     "output_type": "execute_result"
    }
   ],
   "source": [
    "df.head(2)"
   ]
  },
  {
   "cell_type": "markdown",
   "id": "b0e35eb1",
   "metadata": {},
   "source": [
    "## Elimination of emissions"
   ]
  },
  {
   "cell_type": "code",
   "execution_count": 17,
   "id": "bfac1adf",
   "metadata": {},
   "outputs": [
    {
     "name": "stdout",
     "output_type": "stream",
     "text": [
      "1962.3843120119845\n"
     ]
    }
   ],
   "source": [
    "mean=df[\"word_count\"].mean()\n",
    "std=df[\"word_count\"].std()\n",
    "right_border=mean+3*std\n",
    "print(f'{right_border}')"
   ]
  },
  {
   "cell_type": "code",
   "execution_count": 18,
   "id": "6b196c42",
   "metadata": {},
   "outputs": [
    {
     "data": {
      "text/html": [
       "<div>\n",
       "<style scoped>\n",
       "    .dataframe tbody tr th:only-of-type {\n",
       "        vertical-align: middle;\n",
       "    }\n",
       "\n",
       "    .dataframe tbody tr th {\n",
       "        vertical-align: top;\n",
       "    }\n",
       "\n",
       "    .dataframe thead th {\n",
       "        text-align: right;\n",
       "    }\n",
       "</style>\n",
       "<table border=\"1\" class=\"dataframe\">\n",
       "  <thead>\n",
       "    <tr style=\"text-align: right;\">\n",
       "      <th></th>\n",
       "      <th>label</th>\n",
       "      <th>word_count</th>\n",
       "    </tr>\n",
       "  </thead>\n",
       "  <tbody>\n",
       "    <tr>\n",
       "      <th>count</th>\n",
       "      <td>102.000000</td>\n",
       "      <td>102.000000</td>\n",
       "    </tr>\n",
       "    <tr>\n",
       "      <th>mean</th>\n",
       "      <td>0.490196</td>\n",
       "      <td>196.852941</td>\n",
       "    </tr>\n",
       "    <tr>\n",
       "      <th>std</th>\n",
       "      <td>0.502373</td>\n",
       "      <td>321.368743</td>\n",
       "    </tr>\n",
       "    <tr>\n",
       "      <th>min</th>\n",
       "      <td>0.000000</td>\n",
       "      <td>14.000000</td>\n",
       "    </tr>\n",
       "    <tr>\n",
       "      <th>25%</th>\n",
       "      <td>0.000000</td>\n",
       "      <td>45.250000</td>\n",
       "    </tr>\n",
       "    <tr>\n",
       "      <th>50%</th>\n",
       "      <td>0.000000</td>\n",
       "      <td>74.000000</td>\n",
       "    </tr>\n",
       "    <tr>\n",
       "      <th>75%</th>\n",
       "      <td>1.000000</td>\n",
       "      <td>183.750000</td>\n",
       "    </tr>\n",
       "    <tr>\n",
       "      <th>max</th>\n",
       "      <td>1.000000</td>\n",
       "      <td>1962.000000</td>\n",
       "    </tr>\n",
       "  </tbody>\n",
       "</table>\n",
       "</div>"
      ],
      "text/plain": [
       "            label   word_count\n",
       "count  102.000000   102.000000\n",
       "mean     0.490196   196.852941\n",
       "std      0.502373   321.368743\n",
       "min      0.000000    14.000000\n",
       "25%      0.000000    45.250000\n",
       "50%      0.000000    74.000000\n",
       "75%      1.000000   183.750000\n",
       "max      1.000000  1962.000000"
      ]
     },
     "execution_count": 18,
     "metadata": {},
     "output_type": "execute_result"
    }
   ],
   "source": [
    "df.split_text=df.split_text.apply(lambda x: x[:int(right_border)] if x.shape[0]>right_border else x)\n",
    "df.text=df.split_text.apply(lambda x: \" \".join(x))\n",
    "df[\"word_count\"]=df.split_text.apply (lambda x: x.shape[0])\n",
    "df.describe()"
   ]
  },
  {
   "cell_type": "code",
   "execution_count": 19,
   "id": "51fab0bf",
   "metadata": {},
   "outputs": [
    {
     "data": {
      "text/plain": [
       "<AxesSubplot:>"
      ]
     },
     "execution_count": 19,
     "metadata": {},
     "output_type": "execute_result"
    },
    {
     "data": {
      "image/png": "[encoded data removed]",
      "text/plain": [
       "<Figure size 432x288 with 1 Axes>"
      ]
     },
     "metadata": {
      "needs_background": "light"
     },
     "output_type": "display_data"
    }
   ],
   "source": [
    "df.word_count.plot()"
   ]
  },
  {
   "cell_type": "markdown",
   "id": "16120497",
   "metadata": {},
   "source": [
    "## Vectorization sentence of Bert"
   ]
  },
  {
   "cell_type": "code",
   "execution_count": 20,
   "id": "f4f49a89",
   "metadata": {},
   "outputs": [],
   "source": [
    "def get_text_vector(text):\n",
    "    global bert_tokenizer\n",
    "    global bert_model\n",
    "    # Transform input tokens \n",
    "    bert_inputs = bert_tokenizer(text, return_tensors=\"pt\",truncation=True,max_length =512,padding=True)\n",
    "    # Model apply\n",
    "    bert_outputs = bert_model(**bert_inputs)\n",
    "    return bert_outputs.pooler_output.detach().numpy()"
   ]
  },
  {
   "cell_type": "code",
   "execution_count": 21,
   "id": "6d0369bc",
   "metadata": {},
   "outputs": [
    {
     "data": {
      "application/vnd.jupyter.widget-view+json": {
       "model_id": "3b3b24e5f0374ca39dc8984ceec518f2",
       "version_major": 2,
       "version_minor": 0
      },
      "text/plain": [
       "Downloading config.json:   0%|          | 0.00/642 [00:00<?, ?B/s]"
      ]
     },
     "metadata": {},
     "output_type": "display_data"
    },
    {
     "data": {
      "application/vnd.jupyter.widget-view+json": {
       "model_id": "de1437c9d09e422097efeb27f40a7266",
       "version_major": 2,
       "version_minor": 0
      },
      "text/plain": [
       "Downloading pytorch_model.bin:   0%|          | 0.00/681M [00:00<?, ?B/s]"
      ]
     },
     "metadata": {},
     "output_type": "display_data"
    },
    {
     "name": "stderr",
     "output_type": "stream",
     "text": [
      "Some weights of the model checkpoint at DeepPavlov/rubert-base-cased were not used when initializing BertModel: ['cls.predictions.bias', 'cls.predictions.decoder.bias', 'cls.predictions.transform.LayerNorm.bias', 'cls.seq_relationship.weight', 'cls.predictions.transform.dense.bias', 'cls.predictions.transform.dense.weight', 'cls.predictions.transform.LayerNorm.weight', 'cls.seq_relationship.bias', 'cls.predictions.decoder.weight']\n",
      "- This IS expected if you are initializing BertModel from the checkpoint of a model trained on another task or with another architecture (e.g. initializing a BertForSequenceClassification model from a BertForPreTraining model).\n",
      "- This IS NOT expected if you are initializing BertModel from the checkpoint of a model that you expect to be exactly identical (initializing a BertForSequenceClassification model from a BertForSequenceClassification model).\n"
     ]
    },
    {
     "data": {
      "application/vnd.jupyter.widget-view+json": {
       "model_id": "da48585f8ca747e09eb8f31d1977b64e",
       "version_major": 2,
       "version_minor": 0
      },
      "text/plain": [
       "Downloading tokenizer_config.json:   0%|          | 0.00/24.0 [00:00<?, ?B/s]"
      ]
     },
     "metadata": {},
     "output_type": "display_data"
    },
    {
     "data": {
      "application/vnd.jupyter.widget-view+json": {
       "model_id": "26c32c908cf74a3694c348bd737a8c34",
       "version_major": 2,
       "version_minor": 0
      },
      "text/plain": [
       "Downloading vocab.txt:   0%|          | 0.00/1.57M [00:00<?, ?B/s]"
      ]
     },
     "metadata": {},
     "output_type": "display_data"
    },
    {
     "data": {
      "application/vnd.jupyter.widget-view+json": {
       "model_id": "cfcdbe47b0f34cd9bc61a602e9ac4204",
       "version_major": 2,
       "version_minor": 0
      },
      "text/plain": [
       "Downloading special_tokens_map.json:   0%|          | 0.00/112 [00:00<?, ?B/s]"
      ]
     },
     "metadata": {},
     "output_type": "display_data"
    }
   ],
   "source": [
    "model_name = \"DeepPavlov/rubert-base-cased\" \n",
    "bert_model = AutoModel.from_pretrained(model_name)\n",
    "bert_tokenizer = AutoTokenizer.from_pretrained(model_name)"
   ]
  },
  {
   "cell_type": "code",
   "execution_count": 22,
   "id": "1c628a72",
   "metadata": {},
   "outputs": [
    {
     "data": {
      "text/html": [
       "<div>\n",
       "<style scoped>\n",
       "    .dataframe tbody tr th:only-of-type {\n",
       "        vertical-align: middle;\n",
       "    }\n",
       "\n",
       "    .dataframe tbody tr th {\n",
       "        vertical-align: top;\n",
       "    }\n",
       "\n",
       "    .dataframe thead th {\n",
       "        text-align: right;\n",
       "    }\n",
       "</style>\n",
       "<table border=\"1\" class=\"dataframe\">\n",
       "  <thead>\n",
       "    <tr style=\"text-align: right;\">\n",
       "      <th></th>\n",
       "      <th>text</th>\n",
       "      <th>label</th>\n",
       "      <th>split_text</th>\n",
       "      <th>word_count</th>\n",
       "      <th>sentence_vec</th>\n",
       "    </tr>\n",
       "  </thead>\n",
       "  <tbody>\n",
       "    <tr>\n",
       "      <th>0</th>\n",
       "      <td>андрей торопин криптовалютный инвестор совмест...</td>\n",
       "      <td>0</td>\n",
       "      <td>[андрей, торопин, криптовалютный, инвестор, со...</td>\n",
       "      <td>113</td>\n",
       "      <td>[[0.31115916, -0.18865412, 0.4612622, -0.25092...</td>\n",
       "    </tr>\n",
       "    <tr>\n",
       "      <th>1</th>\n",
       "      <td>дорогой партнёр отличный новость сегодня июль ...</td>\n",
       "      <td>0</td>\n",
       "      <td>[дорогой, партнёр, отличный, новость, сегодня,...</td>\n",
       "      <td>46</td>\n",
       "      <td>[[0.01884312, 0.07527621, 0.31362343, 0.201069...</td>\n",
       "    </tr>\n",
       "  </tbody>\n",
       "</table>\n",
       "</div>"
      ],
      "text/plain": [
       "                                                text  label  \\\n",
       "0  андрей торопин криптовалютный инвестор совмест...      0   \n",
       "1  дорогой партнёр отличный новость сегодня июль ...      0   \n",
       "\n",
       "                                          split_text  word_count  \\\n",
       "0  [андрей, торопин, криптовалютный, инвестор, со...         113   \n",
       "1  [дорогой, партнёр, отличный, новость, сегодня,...          46   \n",
       "\n",
       "                                        sentence_vec  \n",
       "0  [[0.31115916, -0.18865412, 0.4612622, -0.25092...  \n",
       "1  [[0.01884312, 0.07527621, 0.31362343, 0.201069...  "
      ]
     },
     "execution_count": 22,
     "metadata": {},
     "output_type": "execute_result"
    }
   ],
   "source": [
    "# df[\"sentence_vec\"]=df.text.apply(lambda x: get_text_vector(x))\n",
    "# joblib.dump(df,open('df__with_sentence_vec_lem.joblib',\"wb\"))\n",
    "\n",
    "df=joblib.load(open('df__with_sentence_vec_lem.joblib',\"rb\"))\n",
    "df.head(2)"
   ]
  },
  {
   "cell_type": "code",
   "execution_count": 23,
   "id": "047aad8e",
   "metadata": {
    "scrolled": true
   },
   "outputs": [
    {
     "data": {
      "text/html": [
       "<div>\n",
       "<style scoped>\n",
       "    .dataframe tbody tr th:only-of-type {\n",
       "        vertical-align: middle;\n",
       "    }\n",
       "\n",
       "    .dataframe tbody tr th {\n",
       "        vertical-align: top;\n",
       "    }\n",
       "\n",
       "    .dataframe thead th {\n",
       "        text-align: right;\n",
       "    }\n",
       "</style>\n",
       "<table border=\"1\" class=\"dataframe\">\n",
       "  <thead>\n",
       "    <tr style=\"text-align: right;\">\n",
       "      <th></th>\n",
       "      <th>text</th>\n",
       "      <th>label</th>\n",
       "      <th>split_text</th>\n",
       "      <th>word_count</th>\n",
       "      <th>sentence_vec</th>\n",
       "    </tr>\n",
       "  </thead>\n",
       "  <tbody>\n",
       "    <tr>\n",
       "      <th>0</th>\n",
       "      <td>андрей торопин криптовалютный инвестор совмест...</td>\n",
       "      <td>0</td>\n",
       "      <td>[андрей, торопин, криптовалютный, инвестор, со...</td>\n",
       "      <td>113</td>\n",
       "      <td>[0.31115916, -0.18865412, 0.4612622, -0.250920...</td>\n",
       "    </tr>\n",
       "    <tr>\n",
       "      <th>1</th>\n",
       "      <td>дорогой партнёр отличный новость сегодня июль ...</td>\n",
       "      <td>0</td>\n",
       "      <td>[дорогой, партнёр, отличный, новость, сегодня,...</td>\n",
       "      <td>46</td>\n",
       "      <td>[0.01884312, 0.07527621, 0.31362343, 0.2010696...</td>\n",
       "    </tr>\n",
       "  </tbody>\n",
       "</table>\n",
       "</div>"
      ],
      "text/plain": [
       "                                                text  label  \\\n",
       "0  андрей торопин криптовалютный инвестор совмест...      0   \n",
       "1  дорогой партнёр отличный новость сегодня июль ...      0   \n",
       "\n",
       "                                          split_text  word_count  \\\n",
       "0  [андрей, торопин, криптовалютный, инвестор, со...         113   \n",
       "1  [дорогой, партнёр, отличный, новость, сегодня,...          46   \n",
       "\n",
       "                                        sentence_vec  \n",
       "0  [0.31115916, -0.18865412, 0.4612622, -0.250920...  \n",
       "1  [0.01884312, 0.07527621, 0.31362343, 0.2010696...  "
      ]
     },
     "execution_count": 23,
     "metadata": {},
     "output_type": "execute_result"
    }
   ],
   "source": [
    "df.sentence_vec=df.sentence_vec.apply(lambda x: x[0])\n",
    "df.head(2)"
   ]
  },
  {
   "cell_type": "code",
   "execution_count": 24,
   "id": "61b98996",
   "metadata": {},
   "outputs": [],
   "source": [
    "def get_n_grams(raw_text: str,ngram_count: int):\n",
    "    tokenized_str = word_tokenize(raw_text)\n",
    "    tokens = np.array([i for i in tokenized_str])\n",
    "    \n",
    "    return np.array([\" \".join(list(i)) for i in ngrams(tokens,ngram_count)])\n",
    "\n",
    "def get_key_words(text,count_output_words=5,max_n_grams=3):\n",
    "    text=text_prepare(text)\n",
    "    text=\" \".join(text)\n",
    "    all_text_vector=get_text_vector(text)\n",
    "    # preparation of vectorizable n-grams\n",
    "    grams=np.array([])\n",
    "    for i in range(1,max_n_grams+1):\n",
    "        grams=np.concatenate((grams,np.unique(get_n_grams(text,i))))\n",
    "    \n",
    "    # their vectorization\n",
    "    vectors=np.array(list(map(get_text_vector,grams)))\n",
    "    vectors=vectors.reshape(vectors.shape[0],vectors.shape[-1])\n",
    "    # calculating the cosine distance\n",
    "    cos_dist=np.array(list(map(lambda x: cosine_distances(x.reshape(1,-1),all_text_vector.reshape(1,-1)),vectors)))\n",
    "    cos_dist=cos_dist.reshape(-1,)\n",
    "    # dictionary formation with cosine distances\n",
    "    dist2gram={cos_dist[i]:grams[i] for i in range(len(cos_dist))}\n",
    "    dist2vec={cos_dist[i]:vectors[i] for i in range(len(cos_dist))}\n",
    "    mins_dist=np.sort(cos_dist)[:count_output_words]\n",
    "\n",
    "    return np.array([[mins_dist],[dist2gram[i] for i in mins_dist],[dist2vec[i] for i in mins_dist]],dtype=np.object)"
   ]
  },
  {
   "cell_type": "code",
   "execution_count": 25,
   "id": "fbcf65dc",
   "metadata": {},
   "outputs": [
    {
     "data": {
      "text/html": [
       "<div>\n",
       "<style scoped>\n",
       "    .dataframe tbody tr th:only-of-type {\n",
       "        vertical-align: middle;\n",
       "    }\n",
       "\n",
       "    .dataframe tbody tr th {\n",
       "        vertical-align: top;\n",
       "    }\n",
       "\n",
       "    .dataframe thead th {\n",
       "        text-align: right;\n",
       "    }\n",
       "</style>\n",
       "<table border=\"1\" class=\"dataframe\">\n",
       "  <thead>\n",
       "    <tr style=\"text-align: right;\">\n",
       "      <th></th>\n",
       "      <th>text</th>\n",
       "      <th>label</th>\n",
       "      <th>split_text</th>\n",
       "      <th>word_count</th>\n",
       "      <th>sentence_vec</th>\n",
       "      <th>tr_key_words</th>\n",
       "      <th>key_words</th>\n",
       "      <th>key_vecs</th>\n",
       "    </tr>\n",
       "  </thead>\n",
       "  <tbody>\n",
       "    <tr>\n",
       "      <th>0</th>\n",
       "      <td>андрей торопин криптовалютный инвестор совмест...</td>\n",
       "      <td>0</td>\n",
       "      <td>[андрей, торопин, криптовалютный, инвестор, со...</td>\n",
       "      <td>113</td>\n",
       "      <td>[0.31115916, -0.18865412, 0.4612622, -0.250920...</td>\n",
       "      <td>[[[0.064515114, 0.06818485, 0.068751454, 0.068...</td>\n",
       "      <td>[торговать биржа иметь, инвестор свой, инвести...</td>\n",
       "      <td>[[0.24219744, -0.20182237, 0.3212388, -0.06110...</td>\n",
       "    </tr>\n",
       "    <tr>\n",
       "      <th>1</th>\n",
       "      <td>дорогой партнёр отличный новость сегодня июль ...</td>\n",
       "      <td>0</td>\n",
       "      <td>[дорогой, партнёр, отличный, новость, сегодня,...</td>\n",
       "      <td>46</td>\n",
       "      <td>[0.01884312, 0.07527621, 0.31362343, 0.2010696...</td>\n",
       "      <td>[[[0.22614872, 0.2874428, 0.30254436, 0.304069...</td>\n",
       "      <td>[погодаев елена ватлашов, команда ссылка транс...</td>\n",
       "      <td>[[0.16501789, -0.073621735, 0.19060352, 0.2858...</td>\n",
       "    </tr>\n",
       "  </tbody>\n",
       "</table>\n",
       "</div>"
      ],
      "text/plain": [
       "                                                text  label  \\\n",
       "0  андрей торопин криптовалютный инвестор совмест...      0   \n",
       "1  дорогой партнёр отличный новость сегодня июль ...      0   \n",
       "\n",
       "                                          split_text  word_count  \\\n",
       "0  [андрей, торопин, криптовалютный, инвестор, со...         113   \n",
       "1  [дорогой, партнёр, отличный, новость, сегодня,...          46   \n",
       "\n",
       "                                        sentence_vec  \\\n",
       "0  [0.31115916, -0.18865412, 0.4612622, -0.250920...   \n",
       "1  [0.01884312, 0.07527621, 0.31362343, 0.2010696...   \n",
       "\n",
       "                                        tr_key_words  \\\n",
       "0  [[[0.064515114, 0.06818485, 0.068751454, 0.068...   \n",
       "1  [[[0.22614872, 0.2874428, 0.30254436, 0.304069...   \n",
       "\n",
       "                                           key_words  \\\n",
       "0  [торговать биржа иметь, инвестор свой, инвести...   \n",
       "1  [погодаев елена ватлашов, команда ссылка транс...   \n",
       "\n",
       "                                            key_vecs  \n",
       "0  [[0.24219744, -0.20182237, 0.3212388, -0.06110...  \n",
       "1  [[0.16501789, -0.073621735, 0.19060352, 0.2858...  "
      ]
     },
     "execution_count": 25,
     "metadata": {},
     "output_type": "execute_result"
    }
   ],
   "source": [
    "# df[\"tr_key_words\"]=df.text.apply(lambda x: get_key_words(x))\n",
    "# df[\"key_words\"]=df.tr_key_words.apply(lambda x: x[1])\n",
    "# df[\"key_vecs\"]=df.tr_key_words.apply(lambda x: x[2])\n",
    "# joblib.dump(df,open('df_final.joblib',\"wb\"))\n",
    "\n",
    "df=joblib.load(open('df_final.joblib',\"rb\"))\n",
    "df.head(2)"
   ]
  },
  {
   "cell_type": "markdown",
   "id": "de7e76a0",
   "metadata": {},
   "source": [
    "### In this part, for further research, the embeddings for the entire sentence as a whole were calculated, keywords and their embeddings were highlighted."
   ]
  }
 ],
 "metadata": {
  "kernelspec": {
   "display_name": "Python 3 (ipykernel)",
   "language": "python",
   "name": "python3"
  },
  "language_info": {
   "codemirror_mode": {
    "name": "ipython",
    "version": 3
   },
   "file_extension": ".py",
   "mimetype": "text/x-python",
   "name": "python",
   "nbconvert_exporter": "python",
   "pygments_lexer": "ipython3",
   "version": "3.9.12"
  }
 },
 "nbformat": 4,
 "nbformat_minor": 5
}
