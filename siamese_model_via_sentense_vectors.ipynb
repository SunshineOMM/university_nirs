{
 "cells": [
  {
   "cell_type": "markdown",
   "id": "4c5cc34a",
   "metadata": {},
   "source": [
    "# In this notebook, a Siamese neural network is implemented, working on the basis of embedding for each of the texts."
   ]
  },
  {
   "cell_type": "code",
   "execution_count": 1,
   "id": "2c85aebd",
   "metadata": {
    "scrolled": true
   },
   "outputs": [
    {
     "name": "stdout",
     "output_type": "stream",
     "text": [
      "2.8.0\n"
     ]
    }
   ],
   "source": [
    "import numpy as np\n",
    "import tensorflow as tf\n",
    "import matplotlib.pyplot as plt\n",
    "from keras import backend as K\n",
    "from keras.layers import Activation, Input, Lambda, Dropout, GlobalMaxPooling1D, Flatten, Conv1D, Dense, Dot\n",
    "from tensorflow.keras.optimizers import RMSprop\n",
    "from sklearn.model_selection import train_test_split\n",
    "import joblib\n",
    "import pandas as pd\n",
    "from sklearn.metrics import accuracy_score\n",
    "print(tf.__version__)"
   ]
  },
  {
   "cell_type": "code",
   "execution_count": 2,
   "id": "b9cf6a27",
   "metadata": {},
   "outputs": [],
   "source": [
    "def dist(vectors):\n",
    "    (featsA, featsB) = vectors\n",
    "    # compute the sum of squared distances between the vectors\n",
    "    sumSquared = K.sum(K.square(featsA - featsB), axis=1,keepdims=True)\n",
    "    # return the euclidean distance between the vectors\n",
    "    return K.sqrt(K.maximum(sumSquared, K.epsilon()))\n",
    "\n",
    "def dist_output_shape(shapes):\n",
    "    shape1, shape2 = shapes\n",
    "    return (shape1[0], 1)\n",
    "\n",
    "def create_base_network(input_shape):\n",
    "    seq = tf.keras.Sequential(name=\"Dense_Dropout_Dense\")\n",
    "    seq.add(Dense(375,activation=\"relu\"))\n",
    "    seq.add(Dropout(0.1))\n",
    "    seq.add(Dense(175,activation=\"relu\"))\n",
    "    return seq\n",
    "\n",
    "def contrastive_loss(y, preds, margin=1):\n",
    "    y = tf.cast(y, preds.dtype)\n",
    "    squaredPreds = K.square(preds)\n",
    "    squaredMargin = K.square(K.maximum(margin - preds, 0))\n",
    "    loss = K.mean(y * squaredPreds + (1 - y) * squaredMargin)\n",
    "    return loss"
   ]
  },
  {
   "cell_type": "markdown",
   "id": "3ec5b8a4",
   "metadata": {},
   "source": [
    "## Preparing data for the model"
   ]
  },
  {
   "cell_type": "code",
   "execution_count": 3,
   "id": "d6c4ccfc",
   "metadata": {},
   "outputs": [
    {
     "data": {
      "text/html": [
       "<div>\n",
       "<style scoped>\n",
       "    .dataframe tbody tr th:only-of-type {\n",
       "        vertical-align: middle;\n",
       "    }\n",
       "\n",
       "    .dataframe tbody tr th {\n",
       "        vertical-align: top;\n",
       "    }\n",
       "\n",
       "    .dataframe thead th {\n",
       "        text-align: right;\n",
       "    }\n",
       "</style>\n",
       "<table border=\"1\" class=\"dataframe\">\n",
       "  <thead>\n",
       "    <tr style=\"text-align: right;\">\n",
       "      <th></th>\n",
       "      <th>text</th>\n",
       "      <th>label</th>\n",
       "      <th>split_text</th>\n",
       "      <th>word_count</th>\n",
       "      <th>sentence_vec</th>\n",
       "      <th>tr_key_words</th>\n",
       "      <th>key_words</th>\n",
       "      <th>key_vecs</th>\n",
       "    </tr>\n",
       "  </thead>\n",
       "  <tbody>\n",
       "    <tr>\n",
       "      <th>0</th>\n",
       "      <td>андрей торопин криптовалютный инвестор совмест...</td>\n",
       "      <td>0</td>\n",
       "      <td>[андрей, торопин, криптовалютный, инвестор, со...</td>\n",
       "      <td>113</td>\n",
       "      <td>[0.31115916, -0.18865412, 0.4612622, -0.250920...</td>\n",
       "      <td>[[[0.064515114, 0.06818485, 0.068751454, 0.068...</td>\n",
       "      <td>[торговать биржа иметь, инвестор свой, инвести...</td>\n",
       "      <td>[[0.24219744, -0.20182237, 0.3212388, -0.06110...</td>\n",
       "    </tr>\n",
       "    <tr>\n",
       "      <th>1</th>\n",
       "      <td>дорогой партнёр отличный новость сегодня июль ...</td>\n",
       "      <td>0</td>\n",
       "      <td>[дорогой, партнёр, отличный, новость, сегодня,...</td>\n",
       "      <td>46</td>\n",
       "      <td>[0.01884312, 0.07527621, 0.31362343, 0.2010696...</td>\n",
       "      <td>[[[0.22614872, 0.2874428, 0.30254436, 0.304069...</td>\n",
       "      <td>[погодаев елена ватлашов, команда ссылка транс...</td>\n",
       "      <td>[[0.16501789, -0.073621735, 0.19060352, 0.2858...</td>\n",
       "    </tr>\n",
       "  </tbody>\n",
       "</table>\n",
       "</div>"
      ],
      "text/plain": [
       "                                                text  label  \\\n",
       "0  андрей торопин криптовалютный инвестор совмест...      0   \n",
       "1  дорогой партнёр отличный новость сегодня июль ...      0   \n",
       "\n",
       "                                          split_text  word_count  \\\n",
       "0  [андрей, торопин, криптовалютный, инвестор, со...         113   \n",
       "1  [дорогой, партнёр, отличный, новость, сегодня,...          46   \n",
       "\n",
       "                                        sentence_vec  \\\n",
       "0  [0.31115916, -0.18865412, 0.4612622, -0.250920...   \n",
       "1  [0.01884312, 0.07527621, 0.31362343, 0.2010696...   \n",
       "\n",
       "                                        tr_key_words  \\\n",
       "0  [[[0.064515114, 0.06818485, 0.068751454, 0.068...   \n",
       "1  [[[0.22614872, 0.2874428, 0.30254436, 0.304069...   \n",
       "\n",
       "                                           key_words  \\\n",
       "0  [торговать биржа иметь, инвестор свой, инвести...   \n",
       "1  [погодаев елена ватлашов, команда ссылка транс...   \n",
       "\n",
       "                                            key_vecs  \n",
       "0  [[0.24219744, -0.20182237, 0.3212388, -0.06110...  \n",
       "1  [[0.16501789, -0.073621735, 0.19060352, 0.2858...  "
      ]
     },
     "execution_count": 3,
     "metadata": {},
     "output_type": "execute_result"
    }
   ],
   "source": [
    "df_first=joblib.load(open('df_final.joblib',\"rb\"))\n",
    "df_first.head(2)"
   ]
  },
  {
   "cell_type": "code",
   "execution_count": 4,
   "id": "3fac3825",
   "metadata": {},
   "outputs": [
    {
     "data": {
      "text/html": [
       "<div>\n",
       "<style scoped>\n",
       "    .dataframe tbody tr th:only-of-type {\n",
       "        vertical-align: middle;\n",
       "    }\n",
       "\n",
       "    .dataframe tbody tr th {\n",
       "        vertical-align: top;\n",
       "    }\n",
       "\n",
       "    .dataframe thead th {\n",
       "        text-align: right;\n",
       "    }\n",
       "</style>\n",
       "<table border=\"1\" class=\"dataframe\">\n",
       "  <thead>\n",
       "    <tr style=\"text-align: right;\">\n",
       "      <th></th>\n",
       "      <th>label</th>\n",
       "      <th>sentence_vec</th>\n",
       "    </tr>\n",
       "  </thead>\n",
       "  <tbody>\n",
       "    <tr>\n",
       "      <th>0</th>\n",
       "      <td>0</td>\n",
       "      <td>[0.31115916, -0.18865412, 0.4612622, -0.250920...</td>\n",
       "    </tr>\n",
       "    <tr>\n",
       "      <th>1</th>\n",
       "      <td>0</td>\n",
       "      <td>[0.01884312, 0.07527621, 0.31362343, 0.2010696...</td>\n",
       "    </tr>\n",
       "  </tbody>\n",
       "</table>\n",
       "</div>"
      ],
      "text/plain": [
       "   label                                       sentence_vec\n",
       "0      0  [0.31115916, -0.18865412, 0.4612622, -0.250920...\n",
       "1      0  [0.01884312, 0.07527621, 0.31362343, 0.2010696..."
      ]
     },
     "execution_count": 4,
     "metadata": {},
     "output_type": "execute_result"
    }
   ],
   "source": [
    "df_first=df_first.drop(columns=[\"text\",\"split_text\",\"word_count\",\"tr_key_words\",\"key_words\",\"key_vecs\"])\n",
    "df_first.head(2)"
   ]
  },
  {
   "cell_type": "code",
   "execution_count": 5,
   "id": "e15a7e62",
   "metadata": {},
   "outputs": [
    {
     "name": "stdout",
     "output_type": "stream",
     "text": [
      "(45,) (45,) (5,) (5,)\n"
     ]
    }
   ],
   "source": [
    "train_df_neg=df_first[df_first.label==0].sentence_vec[:45].values\n",
    "train_df_pos=df_first[df_first.label==1].sentence_vec[:45].values\n",
    "test_df_neg=df_first[df_first.label==0].sentence_vec[45:50].values\n",
    "test_df_pos=df_first[df_first.label==1].sentence_vec[45:50].values\n",
    "assert train_df_neg.shape==train_df_pos.shape\n",
    "assert test_df_neg.shape==test_df_pos.shape\n",
    "print(train_df_neg.shape,train_df_pos.shape,test_df_neg.shape,test_df_pos.shape)"
   ]
  },
  {
   "cell_type": "code",
   "execution_count": 6,
   "id": "d94a133d",
   "metadata": {},
   "outputs": [
    {
     "name": "stdout",
     "output_type": "stream",
     "text": [
      "(4050, 2, 768) (4050,)\n"
     ]
    }
   ],
   "source": [
    "# 1 - both texts are fraudulent, 0 - one is fraudulent, the other is not\n",
    "train_labels_genuine=[1.]*(train_df_neg.shape[0]*train_df_neg.shape[0])\n",
    "train_vec_pairs_genuine=[]\n",
    "for i in range(train_df_neg.shape[0]):\n",
    "    for j in range(train_df_neg.shape[0]):\n",
    "        train_vec_pairs_genuine.append([train_df_neg[i],train_df_neg[j]])\n",
    "\n",
    "train_labels_imposite=[0.]*(train_df_neg.shape[0]*train_df_pos.shape[0])\n",
    "train_vec_pairs_imposite=[]\n",
    "for i in range(train_df_neg.shape[0]):\n",
    "    for j in range(train_df_pos.shape[0]):\n",
    "        train_vec_pairs_imposite.append([train_df_neg[i],train_df_pos[j]])\n",
    "       \n",
    "        \n",
    "train_X=train_vec_pairs_genuine+train_vec_pairs_imposite\n",
    "train_y=train_labels_genuine+train_labels_imposite\n",
    "\n",
    "tmp_df=pd.DataFrame({\"x\":train_X,\"y\":train_y})\n",
    "tmp_df=tmp_df.sample(frac=1,ignore_index=True)\n",
    "\n",
    "train_X=np.array([np.array(i) for i in tmp_df.x.values])\n",
    "train_y=tmp_df.y.values\n",
    "\n",
    "print(train_X.shape,train_y.shape)"
   ]
  },
  {
   "cell_type": "code",
   "execution_count": 7,
   "id": "99aae000",
   "metadata": {},
   "outputs": [
    {
     "name": "stdout",
     "output_type": "stream",
     "text": [
      "(50, 2, 768) (50,)\n"
     ]
    }
   ],
   "source": [
    "# 1 - both texts are fraudulent, 0 - one is fraudulent, the other is not\n",
    "test_labels_genuine=[1.]*(test_df_neg.shape[0]*test_df_neg.shape[0])\n",
    "test_vec_pairs_genuine=[]\n",
    "for i in range(test_df_neg.shape[0]):\n",
    "    for j in range(test_df_neg.shape[0]):\n",
    "        test_vec_pairs_genuine.append([test_df_neg[i],test_df_neg[j]])\n",
    "\n",
    "test_labels_imposite=[0.]*(test_df_neg.shape[0]*test_df_pos.shape[0])\n",
    "test_vec_pairs_imposite=[]\n",
    "for i in range(test_df_neg.shape[0]):\n",
    "    for j in range(test_df_pos.shape[0]):\n",
    "        test_vec_pairs_imposite.append([test_df_neg[i],test_df_pos[j]])\n",
    "       \n",
    "        \n",
    "test_X=test_vec_pairs_genuine+test_vec_pairs_imposite\n",
    "test_y=test_labels_genuine+test_labels_imposite\n",
    "\n",
    "tmp_df=pd.DataFrame({\"x\":test_X,\"y\":test_y})\n",
    "tmp_df=tmp_df.sample(frac=1,ignore_index=True)\n",
    "\n",
    "test_X=np.array([np.array(i) for i in tmp_df.x.values])\n",
    "test_y=tmp_df.y.values\n",
    "\n",
    "print(test_X.shape,test_y.shape)"
   ]
  },
  {
   "cell_type": "markdown",
   "id": "5288e57d",
   "metadata": {},
   "source": [
    "## Model Assembly"
   ]
  },
  {
   "cell_type": "code",
   "execution_count": 8,
   "id": "30af024b",
   "metadata": {},
   "outputs": [],
   "source": [
    "input_dim = train_X.shape[2:]\n",
    "img_a = Input(shape=input_dim)\n",
    "img_b = Input(shape=input_dim)\n",
    "\n",
    "base_network = create_base_network(input_dim)\n",
    "feat_vecs_a = base_network(img_a)\n",
    "feat_vecs_b = base_network(img_b)\n",
    "\n",
    "distance = Lambda(dist, output_shape=dist_output_shape,name=\"euclidean_distance\")([feat_vecs_a, feat_vecs_b])\n",
    "output = Activation(tf.keras.activations.sigmoid)(distance)\n",
    "\n",
    "model = tf.keras.Model(inputs=[img_a, img_b], outputs=output)"
   ]
  },
  {
   "cell_type": "code",
   "execution_count": 9,
   "id": "b6f1b5fd",
   "metadata": {},
   "outputs": [
    {
     "data": {
      "image/png": "[encoded data removed]",
      "text/plain": [
       "<IPython.core.display.Image object>"
      ]
     },
     "execution_count": 9,
     "metadata": {},
     "output_type": "execute_result"
    }
   ],
   "source": [
    "tf.keras.utils.plot_model(base_network,show_shapes=True)"
   ]
  },
  {
   "cell_type": "code",
   "execution_count": 10,
   "id": "74e47150",
   "metadata": {},
   "outputs": [
    {
     "data": {
      "image/png": "[encoded data removed]",
      "text/plain": [
       "<IPython.core.display.Image object>"
      ]
     },
     "execution_count": 10,
     "metadata": {},
     "output_type": "execute_result"
    }
   ],
   "source": [
    "tf.keras.utils.plot_model(model,show_shapes=True)"
   ]
  },
  {
   "cell_type": "code",
   "execution_count": 11,
   "id": "0cd4e109",
   "metadata": {},
   "outputs": [
    {
     "name": "stdout",
     "output_type": "stream",
     "text": [
      "Epoch 1/25\n",
      "127/127 [==============================] - 1s 4ms/step - loss: 0.1741\n",
      "Epoch 2/25\n",
      "127/127 [==============================] - 0s 4ms/step - loss: 0.1393\n",
      "Epoch 3/25\n",
      "127/127 [==============================] - 0s 4ms/step - loss: 0.1283\n",
      "Epoch 4/25\n",
      "127/127 [==============================] - 0s 4ms/step - loss: 0.1263\n",
      "Epoch 5/25\n",
      "127/127 [==============================] - 0s 3ms/step - loss: 0.1254\n",
      "Epoch 6/25\n",
      "127/127 [==============================] - 0s 3ms/step - loss: 0.1252\n",
      "Epoch 7/25\n",
      "127/127 [==============================] - 0s 3ms/step - loss: 0.1252\n",
      "Epoch 8/25\n",
      "127/127 [==============================] - 0s 3ms/step - loss: 0.1275\n",
      "Epoch 9/25\n",
      "127/127 [==============================] - 0s 4ms/step - loss: 0.1262\n",
      "Epoch 10/25\n",
      "127/127 [==============================] - 0s 3ms/step - loss: 0.1252\n",
      "Epoch 11/25\n",
      "127/127 [==============================] - 0s 4ms/step - loss: 0.1252\n",
      "Epoch 12/25\n",
      "127/127 [==============================] - 0s 3ms/step - loss: 0.1251\n",
      "Epoch 13/25\n",
      "127/127 [==============================] - 0s 3ms/step - loss: 0.1251\n",
      "Epoch 14/25\n",
      "127/127 [==============================] - 0s 3ms/step - loss: 0.1251\n",
      "Epoch 15/25\n",
      "127/127 [==============================] - 0s 4ms/step - loss: 0.1251\n",
      "Epoch 16/25\n",
      "127/127 [==============================] - 0s 4ms/step - loss: 0.1256\n",
      "Epoch 17/25\n",
      "127/127 [==============================] - 0s 4ms/step - loss: 0.1260\n",
      "Epoch 18/25\n",
      "127/127 [==============================] - 0s 4ms/step - loss: 0.1252\n",
      "Epoch 19/25\n",
      "127/127 [==============================] - 0s 4ms/step - loss: 0.1251\n",
      "Epoch 20/25\n",
      "127/127 [==============================] - 0s 4ms/step - loss: 0.1251\n",
      "Epoch 21/25\n",
      "127/127 [==============================] - 0s 3ms/step - loss: 0.1251\n",
      "Epoch 22/25\n",
      "127/127 [==============================] - 0s 3ms/step - loss: 0.1277\n",
      "Epoch 23/25\n",
      "127/127 [==============================] - 0s 3ms/step - loss: 0.1283\n",
      "Epoch 24/25\n",
      "127/127 [==============================] - 0s 4ms/step - loss: 0.1268\n",
      "Epoch 25/25\n",
      "127/127 [==============================] - 0s 3ms/step - loss: 0.1273\n"
     ]
    }
   ],
   "source": [
    "model.compile(loss=contrastive_loss, optimizer='adam')\n",
    "history=model.fit([train_X[:, 0], train_X[:, 1]], train_y, verbose=1, epochs=25)"
   ]
  },
  {
   "cell_type": "markdown",
   "id": "387bac65",
   "metadata": {},
   "source": [
    "# Measurement of metrics"
   ]
  },
  {
   "cell_type": "code",
   "execution_count": 12,
   "id": "5e5c6c38",
   "metadata": {},
   "outputs": [
    {
     "name": "stdout",
     "output_type": "stream",
     "text": [
      "Accuracy in training: 83.33%\n"
     ]
    }
   ],
   "source": [
    "# Train\n",
    "pred_train = model.predict([train_X[:, 0], train_X[:, 1]]).reshape(train_y.shape)\n",
    "pred_train=np.where(pred_train > 0.99, 0., 1.)\n",
    "acc_train=accuracy_score(pred_train,train_y)\n",
    "print(f\"Accuracy in training: {round(acc_train*100,2)}%\")"
   ]
  },
  {
   "cell_type": "code",
   "execution_count": 13,
   "id": "9e09bfa4",
   "metadata": {},
   "outputs": [
    {
     "name": "stdout",
     "output_type": "stream",
     "text": [
      "Accuracy on the test: 70.0%\n"
     ]
    }
   ],
   "source": [
    "# Test\n",
    "pred_test = model.predict([test_X[:, 0], test_X[:, 1]]).reshape(test_y.shape)\n",
    "pred_test=np.where(pred_test > 0.99, 0., 1.)\n",
    "acc_test=accuracy_score(pred_test,test_y)\n",
    "print(f\"Accuracy on the test: {round(acc_test*100,2)}%\")"
   ]
  },
  {
   "cell_type": "code",
   "execution_count": 14,
   "id": "cbfff7f8",
   "metadata": {},
   "outputs": [
    {
     "data": {
      "text/plain": [
       "0.8571428571428571"
      ]
     },
     "execution_count": 14,
     "metadata": {},
     "output_type": "execute_result"
    }
   ],
   "source": [
    "from sklearn.metrics import f1_score\n",
    "f1_score(pred_train,train_y)"
   ]
  },
  {
   "cell_type": "code",
   "execution_count": 15,
   "id": "9a3012db",
   "metadata": {},
   "outputs": [
    {
     "data": {
      "text/plain": [
       "0.7692307692307693"
      ]
     },
     "execution_count": 15,
     "metadata": {},
     "output_type": "execute_result"
    }
   ],
   "source": [
    "f1_score(pred_test,test_y)"
   ]
  }
 ],
 "metadata": {
  "kernelspec": {
   "display_name": "Python 3 (ipykernel)",
   "language": "python",
   "name": "python3"
  },
  "language_info": {
   "codemirror_mode": {
    "name": "ipython",
    "version": 3
   },
   "file_extension": ".py",
   "mimetype": "text/x-python",
   "name": "python",
   "nbconvert_exporter": "python",
   "pygments_lexer": "ipython3",
   "version": "3.9.12"
  }
 },
 "nbformat": 4,
 "nbformat_minor": 5
}
